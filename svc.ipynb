{
 "cells": [
  {
   "cell_type": "markdown",
   "id": "b2696650-f936-432d-a05e-fd6ce6a413d8",
   "metadata": {},
   "source": [
    "# Aim\n",
    "##### The goal of this kernel is to examine the data, derive some insights, and attempt to build a predictive model. "
   ]
  },
  {
   "cell_type": "markdown",
   "id": "a559b667-5d51-42b0-b90c-c0df9ef10249",
   "metadata": {},
   "source": [
    "# Importing the necessary several useful packages to load"
   ]
  },
  {
   "cell_type": "code",
   "execution_count": null,
   "id": "ea839cef-ba37-42b7-adb1-cb39ca07dd8c",
   "metadata": {},
   "outputs": [],
   "source": [
    "#First, let's load \n",
    "#NumPy: NumPy is the fundamental package for array computing with Python.\n",
    "#pandas: pandas is a fast, powerful, flexible and easy to use open source data analysis and\n",
    "import pandas as pd \n",
    "import numpy as np \n",
    "\n",
    "# importing vectorizers to convert word to vectors\n",
    "from sklearn.feature_extraction.text import TfidfVectorizer\n",
    "#from sklearn.feature_extraction.text import CountVectorizer\n",
    "\n",
    "#use automated ML pipelines to improve ML models \n",
    "from sklearn.pipeline import Pipeline\n",
    "\n",
    "# imoprting machine learning models \n",
    "from sklearn.ensemble import RandomForestClassifier\n",
    "from sklearn.tree import DecisionTreeClassifier\n",
    "from sklearn import svm\n",
    "from sklearn.svm import SVC \n",
    "import xgboost as xgb\n",
    "from sklearn.neighbors import KNeighborsClassifier \n",
    "\n",
    "# GridSearchCV Hyperparameter Tuning | ML\n",
    "from sklearn.model_selection import GridSearchCV\n",
    "\n",
    "# import nltk libraries for data cleaning \n",
    "import nltk\n",
    "from nltk import pos_tag\n",
    "from nltk.stem import WordNetLemmatizer\n",
    "from nltk.stem import PorterStemmer, LancasterStemmer, SnowballStemmer\n",
    "from nltk.corpus import stopwords\n",
    "import string\n",
    "import re \n",
    "\n",
    "# Predicting the results \n",
    "from sklearn.metrics import accuracy_score, classification_report, confusion_matrix \n",
    "\n",
    "# for visual representation \n",
    "import matplotlib.pyplot as plt\n",
    "import seaborn as sns\n",
    "\n",
    "%matplotlib inline"
   ]
  },
  {
   "cell_type": "markdown",
   "id": "190f16f6-e749-4ae8-87f9-080ecb55459a",
   "metadata": {},
   "source": [
    "# Data Description\n",
    "#### I collected the data from kaggle.\n",
    "https://www.kaggle.com/shivamb/tf-idf-with-ovr-svm-what-s-cooking/data"
   ]
  },
  {
   "cell_type": "code",
   "execution_count": 2,
   "id": "5ae11b36-e8df-4bb0-a6b6-af70d6852e51",
   "metadata": {},
   "outputs": [
    {
     "data": {
      "text/html": [
       "<div>\n",
       "<style scoped>\n",
       "    .dataframe tbody tr th:only-of-type {\n",
       "        vertical-align: middle;\n",
       "    }\n",
       "\n",
       "    .dataframe tbody tr th {\n",
       "        vertical-align: top;\n",
       "    }\n",
       "\n",
       "    .dataframe thead th {\n",
       "        text-align: right;\n",
       "    }\n",
       "</style>\n",
       "<table border=\"1\" class=\"dataframe\">\n",
       "  <thead>\n",
       "    <tr style=\"text-align: right;\">\n",
       "      <th></th>\n",
       "      <th>cuisine_description</th>\n",
       "      <th>cuisine</th>\n",
       "    </tr>\n",
       "  </thead>\n",
       "  <tbody>\n",
       "    <tr>\n",
       "      <th>0</th>\n",
       "      <td>romaine lettuce black olives grape tomatoes ga...</td>\n",
       "      <td>greek</td>\n",
       "    </tr>\n",
       "    <tr>\n",
       "      <th>1</th>\n",
       "      <td>plain flour ground pepper salt tomatoes ground...</td>\n",
       "      <td>southern_us</td>\n",
       "    </tr>\n",
       "    <tr>\n",
       "      <th>2</th>\n",
       "      <td>eggs pepper salt mayonaise cooking oil green c...</td>\n",
       "      <td>filipino</td>\n",
       "    </tr>\n",
       "    <tr>\n",
       "      <th>3</th>\n",
       "      <td>water vegetable oil wheat salt</td>\n",
       "      <td>indian</td>\n",
       "    </tr>\n",
       "    <tr>\n",
       "      <th>4</th>\n",
       "      <td>black pepper shallots cornflour cayenne pepper...</td>\n",
       "      <td>indian</td>\n",
       "    </tr>\n",
       "  </tbody>\n",
       "</table>\n",
       "</div>"
      ],
      "text/plain": [
       "                                 cuisine_description      cuisine\n",
       "0  romaine lettuce black olives grape tomatoes ga...        greek\n",
       "1  plain flour ground pepper salt tomatoes ground...  southern_us\n",
       "2  eggs pepper salt mayonaise cooking oil green c...     filipino\n",
       "3                     water vegetable oil wheat salt       indian\n",
       "4  black pepper shallots cornflour cayenne pepper...       indian"
      ]
     },
     "execution_count": 2,
     "metadata": {},
     "output_type": "execute_result"
    }
   ],
   "source": [
    "dataset = pd.read_csv(\"/Users/vamshikrishna/Downloads/cuisine_data.csv\")\n",
    "dataset.head()"
   ]
  },
  {
   "cell_type": "markdown",
   "id": "fcf1b756-02e5-4895-af01-550c8aea2efe",
   "metadata": {},
   "source": [
    "- A cuisine is a type of cooking that is distinguished by distinctive ingredients, techniques, and dishes and is typically associated with a specific culture or geographic region. Regional food preparation traditions, customs, and ingredients frequently combine to create dishes that are unique to a particular regionc(country).\n",
    "\n",
    "- In this competition, the model should be able to determine which country a cuisine belongs to based on its ingredients and techniques.\n"
   ]
  },
  {
   "cell_type": "code",
   "execution_count": 3,
   "id": "36464eb5-cf4d-436c-83e2-089d68b6b5be",
   "metadata": {},
   "outputs": [
    {
     "name": "stdout",
     "output_type": "stream",
     "text": [
      "<class 'pandas.core.frame.DataFrame'>\n",
      "RangeIndex: 39774 entries, 0 to 39773\n",
      "Data columns (total 2 columns):\n",
      " #   Column               Non-Null Count  Dtype \n",
      "---  ------               --------------  ----- \n",
      " 0   cuisine_description  39774 non-null  object\n",
      " 1   cuisine              39774 non-null  object\n",
      "dtypes: object(2)\n",
      "memory usage: 621.6+ KB\n"
     ]
    }
   ],
   "source": [
    "dataset.info()"
   ]
  },
  {
   "cell_type": "code",
   "execution_count": 4,
   "id": "d240bc2a-d863-483f-b890-43a2e250cdb3",
   "metadata": {},
   "outputs": [
    {
     "data": {
      "text/plain": [
       "(39774, 2)"
      ]
     },
     "execution_count": 4,
     "metadata": {},
     "output_type": "execute_result"
    }
   ],
   "source": [
    "dataset.shape"
   ]
  },
  {
   "cell_type": "code",
   "execution_count": 5,
   "id": "e8297a6d-e374-4913-ae72-42eaa1fdcc6e",
   "metadata": {},
   "outputs": [
    {
     "data": {
      "text/plain": [
       "italian         7838\n",
       "mexican         6438\n",
       "southern_us     4320\n",
       "indian          3003\n",
       "chinese         2673\n",
       "french          2646\n",
       "cajun_creole    1546\n",
       "thai            1539\n",
       "japanese        1423\n",
       "greek           1175\n",
       "spanish          989\n",
       "korean           830\n",
       "vietnamese       825\n",
       "moroccan         821\n",
       "british          804\n",
       "filipino         755\n",
       "irish            667\n",
       "jamaican         526\n",
       "russian          489\n",
       "brazilian        467\n",
       "Name: cuisine, dtype: int64"
      ]
     },
     "execution_count": 5,
     "metadata": {},
     "output_type": "execute_result"
    }
   ],
   "source": [
    "dataset[\"cuisine\"].value_counts()"
   ]
  },
  {
   "cell_type": "markdown",
   "id": "ddc6524f-5d27-4d00-ad12-cd461dcf1f5c",
   "metadata": {},
   "source": [
    "* It appears to be quite simple - just ID, cuisine description, and (target) cuisine. The data set is a good size - 39774 rows should be enough for a good text classifier.\n",
    "\n",
    "- Let us look at the target variable: 20 classes, but the first ten countries have samples ranging from 1100 to 7900, while the last ten have samples ranging from 400 to 1000, indicating that the target is severely unbalanced."
   ]
  },
  {
   "cell_type": "code",
   "execution_count": 6,
   "id": "037545e8-1bdd-4824-a96f-9c859795e2ca",
   "metadata": {},
   "outputs": [
    {
     "data": {
      "text/plain": [
       "cuisine_description    0\n",
       "cuisine                0\n",
       "dtype: int64"
      ]
     },
     "execution_count": 6,
     "metadata": {},
     "output_type": "execute_result"
    }
   ],
   "source": [
    "dataset.isnull().sum()"
   ]
  },
  {
   "cell_type": "markdown",
   "id": "d0d84b05-8ad6-4ee8-a3dd-d96f095167fe",
   "metadata": {},
   "source": [
    "* isnull Return the specified value If the expression is NULL, return it; otherwise, return the expression:\n",
    "* there are no null values in the columns "
   ]
  },
  {
   "cell_type": "markdown",
   "id": "6c3f96ae-b0c1-4d57-b3d0-71adcf4a1687",
   "metadata": {},
   "source": [
    "# Categorical Encoding \n",
    "- By identifying distinct values, the pandas.factorize() method assists in obtaining the numeric representation of an array."
   ]
  },
  {
   "cell_type": "code",
   "execution_count": 7,
   "id": "8fdabd1f-f031-4da5-af47-9a35c69fbfc2",
   "metadata": {},
   "outputs": [
    {
     "data": {
      "text/html": [
       "<div>\n",
       "<style scoped>\n",
       "    .dataframe tbody tr th:only-of-type {\n",
       "        vertical-align: middle;\n",
       "    }\n",
       "\n",
       "    .dataframe tbody tr th {\n",
       "        vertical-align: top;\n",
       "    }\n",
       "\n",
       "    .dataframe thead th {\n",
       "        text-align: right;\n",
       "    }\n",
       "</style>\n",
       "<table border=\"1\" class=\"dataframe\">\n",
       "  <thead>\n",
       "    <tr style=\"text-align: right;\">\n",
       "      <th></th>\n",
       "      <th>cuisine_description</th>\n",
       "      <th>cuisine</th>\n",
       "      <th>cuisilabels</th>\n",
       "    </tr>\n",
       "  </thead>\n",
       "  <tbody>\n",
       "    <tr>\n",
       "      <th>0</th>\n",
       "      <td>romaine lettuce black olives grape tomatoes ga...</td>\n",
       "      <td>greek</td>\n",
       "      <td>0</td>\n",
       "    </tr>\n",
       "    <tr>\n",
       "      <th>1</th>\n",
       "      <td>plain flour ground pepper salt tomatoes ground...</td>\n",
       "      <td>southern_us</td>\n",
       "      <td>1</td>\n",
       "    </tr>\n",
       "    <tr>\n",
       "      <th>2</th>\n",
       "      <td>eggs pepper salt mayonaise cooking oil green c...</td>\n",
       "      <td>filipino</td>\n",
       "      <td>2</td>\n",
       "    </tr>\n",
       "    <tr>\n",
       "      <th>3</th>\n",
       "      <td>water vegetable oil wheat salt</td>\n",
       "      <td>indian</td>\n",
       "      <td>3</td>\n",
       "    </tr>\n",
       "    <tr>\n",
       "      <th>4</th>\n",
       "      <td>black pepper shallots cornflour cayenne pepper...</td>\n",
       "      <td>indian</td>\n",
       "      <td>3</td>\n",
       "    </tr>\n",
       "  </tbody>\n",
       "</table>\n",
       "</div>"
      ],
      "text/plain": [
       "                                 cuisine_description      cuisine  cuisilabels\n",
       "0  romaine lettuce black olives grape tomatoes ga...        greek            0\n",
       "1  plain flour ground pepper salt tomatoes ground...  southern_us            1\n",
       "2  eggs pepper salt mayonaise cooking oil green c...     filipino            2\n",
       "3                     water vegetable oil wheat salt       indian            3\n",
       "4  black pepper shallots cornflour cayenne pepper...       indian            3"
      ]
     },
     "execution_count": 7,
     "metadata": {},
     "output_type": "execute_result"
    }
   ],
   "source": [
    "dataset['cuisilabels'] = dataset['cuisine'].factorize()[0]\n",
    "dataset.head()"
   ]
  },
  {
   "cell_type": "code",
   "execution_count": 8,
   "id": "369b461b-5717-4ff6-a6fb-79f84e4941c6",
   "metadata": {},
   "outputs": [
    {
     "data": {
      "text/html": [
       "<div>\n",
       "<style scoped>\n",
       "    .dataframe tbody tr th:only-of-type {\n",
       "        vertical-align: middle;\n",
       "    }\n",
       "\n",
       "    .dataframe tbody tr th {\n",
       "        vertical-align: top;\n",
       "    }\n",
       "\n",
       "    .dataframe thead th {\n",
       "        text-align: right;\n",
       "    }\n",
       "</style>\n",
       "<table border=\"1\" class=\"dataframe\">\n",
       "  <thead>\n",
       "    <tr style=\"text-align: right;\">\n",
       "      <th></th>\n",
       "      <th>cuisine_description</th>\n",
       "      <th>cuisine</th>\n",
       "      <th>cuisilabels</th>\n",
       "    </tr>\n",
       "  </thead>\n",
       "  <tbody>\n",
       "    <tr>\n",
       "      <th>0</th>\n",
       "      <td>romaine lettuce black olives grape tomatoes ga...</td>\n",
       "      <td>greek</td>\n",
       "      <td>0</td>\n",
       "    </tr>\n",
       "    <tr>\n",
       "      <th>25848</th>\n",
       "      <td>eggs self rising flour brown sugar vanilla ext...</td>\n",
       "      <td>southern_us</td>\n",
       "      <td>1</td>\n",
       "    </tr>\n",
       "    <tr>\n",
       "      <th>29896</th>\n",
       "      <td>sugar corn starch salt water soy sauce broth</td>\n",
       "      <td>filipino</td>\n",
       "      <td>2</td>\n",
       "    </tr>\n",
       "    <tr>\n",
       "      <th>11840</th>\n",
       "      <td>vegetable oil fresh lime juice cilantro leaves...</td>\n",
       "      <td>indian</td>\n",
       "      <td>3</td>\n",
       "    </tr>\n",
       "    <tr>\n",
       "      <th>23025</th>\n",
       "      <td>ground cinnamon garlic powder crushed red pepp...</td>\n",
       "      <td>jamaican</td>\n",
       "      <td>4</td>\n",
       "    </tr>\n",
       "    <tr>\n",
       "      <th>37149</th>\n",
       "      <td>tumeric green onions salt shrimp mussels mince...</td>\n",
       "      <td>spanish</td>\n",
       "      <td>5</td>\n",
       "    </tr>\n",
       "    <tr>\n",
       "      <th>16865</th>\n",
       "      <td>freshly grated parmesan vegetable broth semi p...</td>\n",
       "      <td>italian</td>\n",
       "      <td>6</td>\n",
       "    </tr>\n",
       "    <tr>\n",
       "      <th>39707</th>\n",
       "      <td>shredded cheddar cheese boneless skinless chic...</td>\n",
       "      <td>mexican</td>\n",
       "      <td>7</td>\n",
       "    </tr>\n",
       "    <tr>\n",
       "      <th>14966</th>\n",
       "      <td>soy sauce honey salt pork butt hamburger buns ...</td>\n",
       "      <td>chinese</td>\n",
       "      <td>8</td>\n",
       "    </tr>\n",
       "    <tr>\n",
       "      <th>36577</th>\n",
       "      <td>turnips milk dry white wine lamb shoulder carr...</td>\n",
       "      <td>british</td>\n",
       "      <td>9</td>\n",
       "    </tr>\n",
       "    <tr>\n",
       "      <th>11872</th>\n",
       "      <td>fish sauce sriracha chili sauce chillies groun...</td>\n",
       "      <td>thai</td>\n",
       "      <td>10</td>\n",
       "    </tr>\n",
       "    <tr>\n",
       "      <th>8785</th>\n",
       "      <td>fish sauce jalapeno chilies bone-in chicken br...</td>\n",
       "      <td>vietnamese</td>\n",
       "      <td>11</td>\n",
       "    </tr>\n",
       "    <tr>\n",
       "      <th>25456</th>\n",
       "      <td>low-fat mayonnaise garlic cloves dijon mustard...</td>\n",
       "      <td>cajun_creole</td>\n",
       "      <td>12</td>\n",
       "    </tr>\n",
       "    <tr>\n",
       "      <th>28684</th>\n",
       "      <td>ice sugar cubes strawberries cachaca</td>\n",
       "      <td>brazilian</td>\n",
       "      <td>13</td>\n",
       "    </tr>\n",
       "    <tr>\n",
       "      <th>35052</th>\n",
       "      <td>parsley sprigs yukon gold potatoes carrots cel...</td>\n",
       "      <td>french</td>\n",
       "      <td>14</td>\n",
       "    </tr>\n",
       "    <tr>\n",
       "      <th>36691</th>\n",
       "      <td>ketchup dijon mustard kewpie mayonnaise all-pu...</td>\n",
       "      <td>japanese</td>\n",
       "      <td>15</td>\n",
       "    </tr>\n",
       "    <tr>\n",
       "      <th>25527</th>\n",
       "      <td>milk cocktail cherries frozen orange juice con...</td>\n",
       "      <td>irish</td>\n",
       "      <td>16</td>\n",
       "    </tr>\n",
       "    <tr>\n",
       "      <th>17433</th>\n",
       "      <td>dressing egg yolks ground white pepper sesame ...</td>\n",
       "      <td>korean</td>\n",
       "      <td>17</td>\n",
       "    </tr>\n",
       "    <tr>\n",
       "      <th>39227</th>\n",
       "      <td>tumeric harissa paste black olives garlic clov...</td>\n",
       "      <td>moroccan</td>\n",
       "      <td>18</td>\n",
       "    </tr>\n",
       "    <tr>\n",
       "      <th>11491</th>\n",
       "      <td>medium zucchini spices pork loin yellow onion ...</td>\n",
       "      <td>russian</td>\n",
       "      <td>19</td>\n",
       "    </tr>\n",
       "  </tbody>\n",
       "</table>\n",
       "</div>"
      ],
      "text/plain": [
       "                                     cuisine_description       cuisine  \\\n",
       "0      romaine lettuce black olives grape tomatoes ga...         greek   \n",
       "25848  eggs self rising flour brown sugar vanilla ext...   southern_us   \n",
       "29896       sugar corn starch salt water soy sauce broth      filipino   \n",
       "11840  vegetable oil fresh lime juice cilantro leaves...        indian   \n",
       "23025  ground cinnamon garlic powder crushed red pepp...      jamaican   \n",
       "37149  tumeric green onions salt shrimp mussels mince...       spanish   \n",
       "16865  freshly grated parmesan vegetable broth semi p...       italian   \n",
       "39707  shredded cheddar cheese boneless skinless chic...       mexican   \n",
       "14966  soy sauce honey salt pork butt hamburger buns ...       chinese   \n",
       "36577  turnips milk dry white wine lamb shoulder carr...       british   \n",
       "11872  fish sauce sriracha chili sauce chillies groun...          thai   \n",
       "8785   fish sauce jalapeno chilies bone-in chicken br...    vietnamese   \n",
       "25456  low-fat mayonnaise garlic cloves dijon mustard...  cajun_creole   \n",
       "28684               ice sugar cubes strawberries cachaca     brazilian   \n",
       "35052  parsley sprigs yukon gold potatoes carrots cel...        french   \n",
       "36691  ketchup dijon mustard kewpie mayonnaise all-pu...      japanese   \n",
       "25527  milk cocktail cherries frozen orange juice con...         irish   \n",
       "17433  dressing egg yolks ground white pepper sesame ...        korean   \n",
       "39227  tumeric harissa paste black olives garlic clov...      moroccan   \n",
       "11491  medium zucchini spices pork loin yellow onion ...       russian   \n",
       "\n",
       "       cuisilabels  \n",
       "0                0  \n",
       "25848            1  \n",
       "29896            2  \n",
       "11840            3  \n",
       "23025            4  \n",
       "37149            5  \n",
       "16865            6  \n",
       "39707            7  \n",
       "14966            8  \n",
       "36577            9  \n",
       "11872           10  \n",
       "8785            11  \n",
       "25456           12  \n",
       "28684           13  \n",
       "35052           14  \n",
       "36691           15  \n",
       "25527           16  \n",
       "17433           17  \n",
       "39227           18  \n",
       "11491           19  "
      ]
     },
     "execution_count": 8,
     "metadata": {},
     "output_type": "execute_result"
    }
   ],
   "source": [
    "dataset2 = dataset.sort_values(by=['cuisilabels']).drop_duplicates('cuisine')\n",
    "dataset2"
   ]
  },
  {
   "cell_type": "markdown",
   "id": "747789fb-03e5-408e-9666-d67154f1d1d7",
   "metadata": {},
   "source": [
    "- 20 classes (countries) are represented by numerical values ranging from 0 to 20."
   ]
  },
  {
   "cell_type": "markdown",
   "id": "fa082e60-0a59-4179-9df3-d1308aca42d0",
   "metadata": {},
   "source": [
    "# Data Visualization"
   ]
  },
  {
   "cell_type": "code",
   "execution_count": 11,
   "id": "438bb66a-6b08-4772-ba4e-cb0b4a6e8ce2",
   "metadata": {},
   "outputs": [
    {
     "data": {
      "text/plain": [
       "<AxesSubplot:xlabel='cuisine'>"
      ]
     },
     "execution_count": 11,
     "metadata": {},
     "output_type": "execute_result"
    },
    {
     "data": {
      "image/png": "[encoded data removed]",
      "text/plain": [
       "<Figure size 432x288 with 1 Axes>"
      ]
     },
     "metadata": {
      "needs_background": "light"
     },
     "output_type": "display_data"
    }
   ],
   "source": [
    "dataset.groupby('cuisine').count().plot.bar(ylim=0)"
   ]
  },
  {
   "cell_type": "code",
   "execution_count": 13,
   "id": "bd969e1a-592c-457f-82a7-e431f79fa57b",
   "metadata": {},
   "outputs": [],
   "source": [
    "## Number of words in the text\n",
    "dataset[\"num_words\"] = dataset[\"cuisine_description\"].apply(lambda x: len(str(x).split()))\n",
    "## Number of unique words in the text \n",
    "dataset[\"num_unique_words\"] = dataset[\"cuisine_description\"].apply(lambda x: len(set(str(x).split())))\n",
    "## Number of characters in the text ##\n",
    "dataset[\"num_chars\"] = dataset[\"cuisine_description\"].apply(lambda x: len(str(x)))\n",
    "\n",
    "## Number of stopwords in the text ##\n",
    "dataset[\"num_stopwords\"] = dataset[\"cuisine_description\"].apply(lambda x: len([w for w in str(x).lower().split() if w in set(stopwords.words('english'))]))\n",
    "\n",
    "## Number of punctuations in the text ##\n",
    "dataset[\"num_punctuations\"] =dataset['cuisine_description'].apply(lambda x: len([c for c in str(x) if c in string.punctuation]) )\n",
    "## Number of title case words in the text ##\n",
    "dataset[\"num_words_upper\"] = dataset[\"cuisine_description\"].apply(lambda x: len([w for w in str(x).split() if w.isupper()]))"
   ]
  },
  {
   "cell_type": "code",
   "execution_count": 14,
   "id": "59734c0e-4b1f-4e12-aace-839fc065cbfa",
   "metadata": {},
   "outputs": [
    {
     "data": {
      "text/html": [
       "<div>\n",
       "<style scoped>\n",
       "    .dataframe tbody tr th:only-of-type {\n",
       "        vertical-align: middle;\n",
       "    }\n",
       "\n",
       "    .dataframe tbody tr th {\n",
       "        vertical-align: top;\n",
       "    }\n",
       "\n",
       "    .dataframe thead th {\n",
       "        text-align: right;\n",
       "    }\n",
       "</style>\n",
       "<table border=\"1\" class=\"dataframe\">\n",
       "  <thead>\n",
       "    <tr style=\"text-align: right;\">\n",
       "      <th></th>\n",
       "      <th>cuisine_description</th>\n",
       "      <th>cuisine</th>\n",
       "      <th>cuisilabels</th>\n",
       "      <th>num_words</th>\n",
       "      <th>num_unique_words</th>\n",
       "      <th>num_chars</th>\n",
       "      <th>num_stopwords</th>\n",
       "      <th>num_punctuations</th>\n",
       "      <th>num_words_upper</th>\n",
       "    </tr>\n",
       "  </thead>\n",
       "  <tbody>\n",
       "    <tr>\n",
       "      <th>0</th>\n",
       "      <td>romaine lettuce black olives grape tomatoes ga...</td>\n",
       "      <td>greek</td>\n",
       "      <td>0</td>\n",
       "      <td>16</td>\n",
       "      <td>16</td>\n",
       "      <td>116</td>\n",
       "      <td>0</td>\n",
       "      <td>0</td>\n",
       "      <td>0</td>\n",
       "    </tr>\n",
       "    <tr>\n",
       "      <th>1</th>\n",
       "      <td>plain flour ground pepper salt tomatoes ground...</td>\n",
       "      <td>southern_us</td>\n",
       "      <td>1</td>\n",
       "      <td>19</td>\n",
       "      <td>16</td>\n",
       "      <td>121</td>\n",
       "      <td>0</td>\n",
       "      <td>0</td>\n",
       "      <td>0</td>\n",
       "    </tr>\n",
       "    <tr>\n",
       "      <th>2</th>\n",
       "      <td>eggs pepper salt mayonaise cooking oil green c...</td>\n",
       "      <td>filipino</td>\n",
       "      <td>2</td>\n",
       "      <td>20</td>\n",
       "      <td>19</td>\n",
       "      <td>135</td>\n",
       "      <td>0</td>\n",
       "      <td>0</td>\n",
       "      <td>0</td>\n",
       "    </tr>\n",
       "    <tr>\n",
       "      <th>3</th>\n",
       "      <td>water vegetable oil wheat salt</td>\n",
       "      <td>indian</td>\n",
       "      <td>3</td>\n",
       "      <td>5</td>\n",
       "      <td>5</td>\n",
       "      <td>30</td>\n",
       "      <td>0</td>\n",
       "      <td>0</td>\n",
       "      <td>0</td>\n",
       "    </tr>\n",
       "    <tr>\n",
       "      <th>4</th>\n",
       "      <td>black pepper shallots cornflour cayenne pepper...</td>\n",
       "      <td>indian</td>\n",
       "      <td>3</td>\n",
       "      <td>33</td>\n",
       "      <td>32</td>\n",
       "      <td>221</td>\n",
       "      <td>0</td>\n",
       "      <td>0</td>\n",
       "      <td>0</td>\n",
       "    </tr>\n",
       "    <tr>\n",
       "      <th>...</th>\n",
       "      <td>...</td>\n",
       "      <td>...</td>\n",
       "      <td>...</td>\n",
       "      <td>...</td>\n",
       "      <td>...</td>\n",
       "      <td>...</td>\n",
       "      <td>...</td>\n",
       "      <td>...</td>\n",
       "      <td>...</td>\n",
       "    </tr>\n",
       "    <tr>\n",
       "      <th>39769</th>\n",
       "      <td>light brown sugar granulated sugar butter warm...</td>\n",
       "      <td>irish</td>\n",
       "      <td>16</td>\n",
       "      <td>24</td>\n",
       "      <td>21</td>\n",
       "      <td>157</td>\n",
       "      <td>0</td>\n",
       "      <td>2</td>\n",
       "      <td>0</td>\n",
       "    </tr>\n",
       "    <tr>\n",
       "      <th>39770</th>\n",
       "      <td>kraft zesty italian dressing purple onion broc...</td>\n",
       "      <td>italian</td>\n",
       "      <td>6</td>\n",
       "      <td>18</td>\n",
       "      <td>17</td>\n",
       "      <td>125</td>\n",
       "      <td>0</td>\n",
       "      <td>0</td>\n",
       "      <td>0</td>\n",
       "    </tr>\n",
       "    <tr>\n",
       "      <th>39771</th>\n",
       "      <td>eggs citrus fruit raisins sourdough starter fl...</td>\n",
       "      <td>irish</td>\n",
       "      <td>16</td>\n",
       "      <td>17</td>\n",
       "      <td>16</td>\n",
       "      <td>110</td>\n",
       "      <td>0</td>\n",
       "      <td>0</td>\n",
       "      <td>0</td>\n",
       "    </tr>\n",
       "    <tr>\n",
       "      <th>39772</th>\n",
       "      <td>boneless chicken skinless thigh minced garlic ...</td>\n",
       "      <td>chinese</td>\n",
       "      <td>8</td>\n",
       "      <td>45</td>\n",
       "      <td>42</td>\n",
       "      <td>296</td>\n",
       "      <td>0</td>\n",
       "      <td>0</td>\n",
       "      <td>0</td>\n",
       "    </tr>\n",
       "    <tr>\n",
       "      <th>39773</th>\n",
       "      <td>green chile jalapeno chilies onions ground bla...</td>\n",
       "      <td>mexican</td>\n",
       "      <td>7</td>\n",
       "      <td>23</td>\n",
       "      <td>21</td>\n",
       "      <td>155</td>\n",
       "      <td>0</td>\n",
       "      <td>0</td>\n",
       "      <td>0</td>\n",
       "    </tr>\n",
       "  </tbody>\n",
       "</table>\n",
       "<p>39774 rows × 9 columns</p>\n",
       "</div>"
      ],
      "text/plain": [
       "                                     cuisine_description      cuisine  \\\n",
       "0      romaine lettuce black olives grape tomatoes ga...        greek   \n",
       "1      plain flour ground pepper salt tomatoes ground...  southern_us   \n",
       "2      eggs pepper salt mayonaise cooking oil green c...     filipino   \n",
       "3                         water vegetable oil wheat salt       indian   \n",
       "4      black pepper shallots cornflour cayenne pepper...       indian   \n",
       "...                                                  ...          ...   \n",
       "39769  light brown sugar granulated sugar butter warm...        irish   \n",
       "39770  kraft zesty italian dressing purple onion broc...      italian   \n",
       "39771  eggs citrus fruit raisins sourdough starter fl...        irish   \n",
       "39772  boneless chicken skinless thigh minced garlic ...      chinese   \n",
       "39773  green chile jalapeno chilies onions ground bla...      mexican   \n",
       "\n",
       "       cuisilabels  num_words  num_unique_words  num_chars  num_stopwords  \\\n",
       "0                0         16                16        116              0   \n",
       "1                1         19                16        121              0   \n",
       "2                2         20                19        135              0   \n",
       "3                3          5                 5         30              0   \n",
       "4                3         33                32        221              0   \n",
       "...            ...        ...               ...        ...            ...   \n",
       "39769           16         24                21        157              0   \n",
       "39770            6         18                17        125              0   \n",
       "39771           16         17                16        110              0   \n",
       "39772            8         45                42        296              0   \n",
       "39773            7         23                21        155              0   \n",
       "\n",
       "       num_punctuations  num_words_upper  \n",
       "0                     0                0  \n",
       "1                     0                0  \n",
       "2                     0                0  \n",
       "3                     0                0  \n",
       "4                     0                0  \n",
       "...                 ...              ...  \n",
       "39769                 2                0  \n",
       "39770                 0                0  \n",
       "39771                 0                0  \n",
       "39772                 0                0  \n",
       "39773                 0                0  \n",
       "\n",
       "[39774 rows x 9 columns]"
      ]
     },
     "execution_count": 14,
     "metadata": {},
     "output_type": "execute_result"
    }
   ],
   "source": [
    "dataset"
   ]
  },
  {
   "cell_type": "code",
   "execution_count": 15,
   "id": "7c414126-b81d-442c-bea8-39b77be3b1fd",
   "metadata": {},
   "outputs": [
    {
     "data": {
      "image/png": "[encoded data removed]",
      "text/plain": [
       "<Figure size 864x576 with 1 Axes>"
      ]
     },
     "metadata": {
      "needs_background": "light"
     },
     "output_type": "display_data"
    }
   ],
   "source": [
    "plt.figure(figsize=(12,8))\n",
    "sns.violinplot(data=dataset['num_words'])\n",
    "plt.show()"
   ]
  },
  {
   "cell_type": "code",
   "execution_count": 16,
   "id": "1a98390a-1652-49f8-bb35-62e850ce5a4c",
   "metadata": {},
   "outputs": [
    {
     "data": {
      "image/png": "[encoded data removed]",
      "text/plain": [
       "<Figure size 864x576 with 1 Axes>"
      ]
     },
     "metadata": {
      "needs_background": "light"
     },
     "output_type": "display_data"
    }
   ],
   "source": [
    "plt.figure(figsize=(12,8))\n",
    "sns.violinplot(data=dataset['num_punctuations'])\n",
    "plt.show()"
   ]
  },
  {
   "cell_type": "code",
   "execution_count": 17,
   "id": "c2bc8cc1-1abd-4564-93be-43a903b56b03",
   "metadata": {},
   "outputs": [
    {
     "data": {
      "image/png": "[encoded data removed]",
      "text/plain": [
       "<Figure size 864x576 with 1 Axes>"
      ]
     },
     "metadata": {
      "needs_background": "light"
     },
     "output_type": "display_data"
    }
   ],
   "source": [
    "plt.figure(figsize=(12,8))\n",
    "sns.violinplot(data=dataset[\"num_stopwords\"])\n",
    "plt.show()"
   ]
  },
  {
   "cell_type": "markdown",
   "id": "0dcddf14-a63b-4f15-990d-7f913ae8b8b3",
   "metadata": {},
   "source": [
    "* Using this visualisation, we were able to count how many stopwords and punctuations there are.\n"
   ]
  },
  {
   "cell_type": "markdown",
   "id": "3c97924f-aee1-413c-b574-e3d99e543dbb",
   "metadata": {},
   "source": [
    "# Exploratory data analysis"
   ]
  },
  {
   "cell_type": "code",
   "execution_count": 18,
   "id": "45567b91-cfc7-4a54-8dc3-2999c4756cf4",
   "metadata": {},
   "outputs": [],
   "source": [
    "def clean_words(cuisine_des):\n",
    "    cuisine_des = cuisine_des.lower()\n",
    "    cuisine_des = re.sub('[^A-Za-z0-9]+', ' ', cuisine_des)\n",
    "    cuisine_des = re.sub(\"[.!”\\$%&\\'()*+,\\-.\\/:;=#@?\\[\\\\\\]^_`{|}~]\",\"\", cuisine_des)\n",
    "    return cuisine_des\n",
    "\n",
    "dataset['cuisine_description'] = dataset['cuisine_description'].apply(clean_words)"
   ]
  },
  {
   "cell_type": "markdown",
   "id": "fb7c2cc0-7229-4ac4-a5ab-ef55fc423655",
   "metadata": {},
   "source": [
    "- This function takes a match for any character between a and z, lower case OR upper case, and removes all punctuation and special characters."
   ]
  },
  {
   "cell_type": "code",
   "execution_count": 19,
   "id": "2c391db4-7732-4673-97c9-031e16cc194b",
   "metadata": {},
   "outputs": [],
   "source": [
    "# removing the stop words \n",
    "dataset['cuisine_description'] = dataset['cuisine_description'].apply(lambda x: ' '.join([word for word in x.split() \n",
    "                                                                                          if word not in set(stopwords.words('english'))]))"
   ]
  },
  {
   "cell_type": "code",
   "execution_count": 20,
   "id": "198be616-5576-4b41-b029-100e43a1edaf",
   "metadata": {},
   "outputs": [],
   "source": [
    "CONTRACTION_MAP = {\n",
    "\"ain't\": \"is not\",\n",
    "\"aren't\": \"are not\",\n",
    "\"can't\": \"cannot\",\n",
    "\"can't've\": \"cannot have\",\n",
    "\"'cause\": \"because\",\n",
    "\"could've\": \"could have\",\n",
    "\"couldn't\": \"could not\",\n",
    "\"couldn't've\": \"could not have\",\n",
    "\"didn't\": \"did not\",\n",
    "\"doesn't\": \"does not\",\n",
    "\"don't\": \"do not\",\n",
    "\"hadn't\": \"had not\",\n",
    "\"hadn't've\": \"had not have\",\n",
    "\"hasn't\": \"has not\",\n",
    "\"haven't\": \"have not\",\n",
    "\"he'd\": \"he would\",\n",
    "\"he'd've\": \"he would have\",\n",
    "\"he'll\": \"he will\",\n",
    "\"he'll've\": \"he he will have\",\n",
    "\"he's\": \"he is\",\n",
    "\"how'd\": \"how did\",\n",
    "\"how'd'y\": \"how do you\",\n",
    "\"how'll\": \"how will\",\n",
    "\"how's\": \"how is\",\n",
    "\"I'd\": \"I would\",\n",
    "\"I'd've\": \"I would have\",\n",
    "\"I'll\": \"I will\",\n",
    "\"I'll've\": \"I will have\",\n",
    "\"I'm\": \"I am\",\n",
    "\"I've\": \"I have\",\n",
    "\"i'd\": \"i would\",\n",
    "\"i'd've\": \"i would have\",\n",
    "\"i'll\": \"i will\",\n",
    "\"i'll've\": \"i will have\",\n",
    "\"i'm\": \"i am\",\n",
    "\"i've\": \"i have\",\n",
    "\"isn't\": \"is not\",\n",
    "\"it'd\": \"it would\",\n",
    "\"it'd've\": \"it would have\",\n",
    "\"it'll\": \"it will\",\n",
    "\"it'll've\": \"it will have\",\n",
    "\"it's\": \"it is\",\n",
    "\"let's\": \"let us\",\n",
    "\"ma'am\": \"madam\",\n",
    "\"mayn't\": \"may not\",\n",
    "\"might've\": \"might have\",\n",
    "\"mightn't\": \"might not\",\n",
    "\"mightn't've\": \"might not have\",\n",
    "\"must've\": \"must have\",\n",
    "\"mustn't\": \"must not\",\n",
    "\"mustn't've\": \"must not have\",\n",
    "\"needn't\": \"need not\",\n",
    "\"needn't've\": \"need not have\",\n",
    "\"o'clock\": \"of the clock\",\n",
    "\"oughtn't\": \"ought not\",\n",
    "\"oughtn't've\": \"ought not have\",\n",
    "\"shan't\": \"shall not\",\n",
    "\"sha'n't\": \"shall not\",\n",
    "\"shan't've\": \"shall not have\",\n",
    "\"she'd\": \"she would\",\n",
    "\"she'd've\": \"she would have\",\n",
    "\"she'll\": \"she will\",\n",
    "\"she'll've\": \"she will have\",\n",
    "\"she's\": \"she is\",\n",
    "\"should've\": \"should have\",\n",
    "\"shouldn't\": \"should not\",\n",
    "\"shouldn't've\": \"should not have\",\n",
    "\"so've\": \"so have\",\n",
    "\"so's\": \"so as\",\n",
    "\"that'd\": \"that would\",\n",
    "\"that'd've\": \"that would have\",\n",
    "\"that's\": \"that is\",\n",
    "\"there'd\": \"there would\",\n",
    "\"there'd've\": \"there would have\",\n",
    "\"there's\": \"there is\",\n",
    "\"they'd\": \"they would\",\n",
    "\"they'd've\": \"they would have\",\n",
    "\"they'll\": \"they will\",\n",
    "\"they'll've\": \"they will have\",\n",
    "\"they're\": \"they are\",\n",
    "\"they've\": \"they have\",\n",
    "\"to've\": \"to have\",\n",
    "\"wasn't\": \"was not\",\n",
    "\"we'd\": \"we would\",\n",
    "\"we'd've\": \"we would have\",\n",
    "\"we'll\": \"we will\",\n",
    "\"we'll've\": \"we will have\",\n",
    "\"we're\": \"we are\",\n",
    "\"we've\": \"we have\",\n",
    "\"weren't\": \"were not\",\n",
    "\"what'll\": \"what will\",\n",
    "\"what'll've\": \"what will have\",\n",
    "\"what're\": \"what are\",\n",
    "\"what's\": \"what is\",\n",
    "\"what've\": \"what have\",\n",
    "\"when's\": \"when is\",\n",
    "\"when've\": \"when have\",\n",
    "\"where'd\": \"where did\",\n",
    "\"where's\": \"where is\",\n",
    "\"where've\": \"where have\",\n",
    "\"who'll\": \"who will\",\n",
    "\"who'll've\": \"who will have\",\n",
    "\"who's\": \"who is\",\n",
    "\"who've\": \"who have\",\n",
    "\"why's\": \"why is\",\n",
    "\"why've\": \"why have\",\n",
    "\"will've\": \"will have\",\n",
    "\"won't\": \"will not\",\n",
    "\"won't've\": \"will not have\",\n",
    "\"would've\": \"would have\",\n",
    "\"wouldn't\": \"would not\",\n",
    "\"wouldn't've\": \"would not have\",\n",
    "\"y'all\": \"you all\",\n",
    "\"y'all'd\": \"you all would\",\n",
    "\"y'all'd've\": \"you all would have\",\n",
    "\"y'all're\": \"you all are\",\n",
    "\"y'all've\": \"you all have\",\n",
    "\"you'd\": \"you would\",\n",
    "\"you'd've\": \"you would have\",\n",
    "\"you'll\": \"you will\",\n",
    "\"you'll've\": \"you will have\",\n",
    "\"you're\": \"you are\",\n",
    "\"you've\": \"you have\"\n",
    "}"
   ]
  },
  {
   "cell_type": "code",
   "execution_count": 21,
   "id": "19c467de-e874-4c34-b169-84a6acc1c79b",
   "metadata": {},
   "outputs": [],
   "source": [
    "#import contractions\n",
    "#print(contractions.fix(\"you've\")) "
   ]
  },
  {
   "cell_type": "markdown",
   "id": "aa049ef0-6a57-4e24-93a5-42b1e70ceb69",
   "metadata": {
    "tags": []
   },
   "source": [
    "##### Expanding English language contractions \n",
    "- They're usually constructed by deleting one of the word's vowels."
   ]
  },
  {
   "cell_type": "code",
   "execution_count": 22,
   "id": "a5591dc9-0555-4d4d-aa81-f969b9022356",
   "metadata": {},
   "outputs": [],
   "source": [
    "conm = CONTRACTION_MAP\n",
    "def contraction_remove(cuisine_text):\n",
    "    for key,value in conm.items():\n",
    "        cuisine_text = re.sub(r\"{}\".format(key),'{}'.format(value), cuisine_text)\n",
    "        \n",
    "    return cuisine_text\n",
    "\n",
    "dataset['cuisine_description'] = dataset['cuisine_description'].apply(contraction_remove)"
   ]
  },
  {
   "cell_type": "markdown",
   "id": "7e4e5be3-8d4c-42cd-a3d9-cdd543713792",
   "metadata": {},
   "source": [
    "##### Lemmatization is a mechanism for switching any kind of word to its basic root mode in its simplest form. \n",
    "- The base form of 'troubled' is clearly identified as 'trouble' conveying some meaning through lemmatization"
   ]
  },
  {
   "cell_type": "code",
   "execution_count": 23,
   "id": "c9057d92-15be-4c0b-b719-c6172d7d3563",
   "metadata": {},
   "outputs": [],
   "source": [
    "lemmatizer = WordNetLemmatizer()\n",
    "def lemmatization(cuisine_des):\n",
    "    cuisine_des = ' '.join([lemmatizer.lemmatize(word) for word in cuisine_des.split(' ')])\n",
    "    return cuisine_des\n",
    "dataset['cuisine_description'] = dataset['cuisine_description'].apply(lemmatization)\n",
    "# dataset.loc[:, 'cuisine_description'].apply(lemmatization) "
   ]
  },
  {
   "cell_type": "markdown",
   "id": "15092565-f9a9-45dc-90d5-f51f48a95dd7",
   "metadata": {},
   "source": [
    "# Splitting the data into train and test"
   ]
  },
  {
   "cell_type": "code",
   "execution_count": 24,
   "id": "ce1c3a03-5e22-4ac0-bd04-a2b84c322a97",
   "metadata": {},
   "outputs": [],
   "source": [
    "X = dataset[\"cuisine_description\"]\n",
    "y = dataset['cuisilabels']\n",
    "from sklearn.model_selection import train_test_split\n",
    "x_train, x_test, y_train, y_test = train_test_split(X, y,test_size=0.3,\n",
    "                                                    random_state=0, shuffle=True)"
   ]
  },
  {
   "cell_type": "code",
   "execution_count": 25,
   "id": "206a582a-21f1-4183-86d9-0d58eedf48d6",
   "metadata": {},
   "outputs": [
    {
     "name": "stdout",
     "output_type": "stream",
     "text": [
      "Train shape:  (27841,)\n",
      "Test shape:  (11933,)\n"
     ]
    }
   ],
   "source": [
    "print(\"Train shape: \", x_train.shape)\n",
    "print(\"Test shape: \", x_test.shape)"
   ]
  },
  {
   "cell_type": "markdown",
   "id": "f638794d-5d9b-4495-9672-8f9044a8db83",
   "metadata": {},
   "source": [
    "# Model building and tokenization"
   ]
  },
  {
   "cell_type": "markdown",
   "id": "969ab04a-7eb0-4263-a1cc-30ae6c02e4af",
   "metadata": {},
   "source": [
    "##### converting words to vectors \n",
    "- The TF-IDF can be used to assign vectors to either words or documents. \n",
    "Word2Vec can be used directly to assign a vector to a word, but further processing is required to obtain the vector representation of a document. \n",
    "- Tf-idf is a word scoring technique that determines how essential a word is in a document. \n",
    "\n",
    "##### Pipeline\n",
    "* Pipelines are machine learning methods that make combining many algorithms into a single pipeline, or workflow, much easier. \n",
    "\n",
    "##### model \n",
    "- SVM  Classification"
   ]
  },
  {
   "cell_type": "code",
   "execution_count": 39,
   "id": "ccbc6e9e-c84a-4ee0-a6fc-4188235bd243",
   "metadata": {},
   "outputs": [],
   "source": [
    "classifier = Pipeline([('tfidf',TfidfVectorizer()), ('classifier', SVC(C=10, gamma=\"scale\", probability=True))])"
   ]
  },
  {
   "cell_type": "code",
   "execution_count": 40,
   "id": "5dd57c37-f568-4ba1-b744-e754514f4054",
   "metadata": {},
   "outputs": [
    {
     "data": {
      "text/plain": [
       "Pipeline(steps=[('tfidf', TfidfVectorizer()),\n",
       "                ('classifier', SVC(C=10, probability=True))])"
      ]
     },
     "execution_count": 40,
     "metadata": {},
     "output_type": "execute_result"
    }
   ],
   "source": [
    "# fit the data to model\n",
    "classifier.fit(x_train, y_train)"
   ]
  },
  {
   "cell_type": "markdown",
   "id": "c0f61c89-5e91-452e-a19e-c76277b75316",
   "metadata": {},
   "source": [
    "# Results prediction"
   ]
  },
  {
   "cell_type": "code",
   "execution_count": 41,
   "id": "d0f34f80-83cb-4382-a3d5-b9dbaacfc401",
   "metadata": {},
   "outputs": [],
   "source": [
    "y_pred = classifier.predict(x_test)"
   ]
  },
  {
   "cell_type": "code",
   "execution_count": 42,
   "id": "66ce752a-b647-4aa3-af53-da84e307b153",
   "metadata": {},
   "outputs": [
    {
     "data": {
      "text/plain": [
       "array([7, 7, 3, ..., 1, 1, 2])"
      ]
     },
     "execution_count": 42,
     "metadata": {},
     "output_type": "execute_result"
    }
   ],
   "source": [
    "y_pred "
   ]
  },
  {
   "cell_type": "markdown",
   "id": "5c41a2d3-9687-4e1e-8d58-c13bfcf94ae8",
   "metadata": {},
   "source": [
    "- Returns the sample's probability for each class in the model."
   ]
  },
  {
   "cell_type": "code",
   "execution_count": 43,
   "id": "1e581ab4-591f-4038-bb81-9427c8988a54",
   "metadata": {},
   "outputs": [],
   "source": [
    "pred_test_y = classifier.predict_proba(x_test)"
   ]
  },
  {
   "cell_type": "code",
   "execution_count": 47,
   "id": "40cab131-ee52-4970-a133-998a9e8d52c2",
   "metadata": {},
   "outputs": [
    {
     "name": "stdout",
     "output_type": "stream",
     "text": [
      "[[3.46781452e-07 4.06449689e-06 6.54740100e-07 ... 7.55775566e-07\n",
      "  7.75853996e-07 1.78245535e-06]\n",
      " [6.23016076e-04 4.48062956e-03 2.51385751e-03 ... 3.49453109e-03\n",
      "  5.18470284e-04 1.27110460e-03]\n",
      " [2.60118182e-01 2.14382951e-02 1.69081605e-02 ... 4.98766418e-03\n",
      "  1.50849669e-02 3.12687536e-02]\n",
      " ...\n",
      " [2.46769087e-05 9.55439098e-01 2.00685482e-05 ... 3.72206591e-05\n",
      "  9.00485514e-06 1.34197462e-04]\n",
      " [4.78166131e-04 8.67753700e-01 1.72470712e-03 ... 1.10472097e-03\n",
      "  1.14701761e-02 2.48015587e-03]\n",
      " [3.20468607e-03 9.92141914e-03 7.46164532e-01 ... 1.98920272e-03\n",
      "  1.51580092e-03 1.07288492e-02]]\n"
     ]
    }
   ],
   "source": [
    "print(pred_test_y)"
   ]
  },
  {
   "cell_type": "markdown",
   "id": "40ab39a1-0920-4ec5-bc35-10cf0ae21394",
   "metadata": {},
   "source": [
    "# Testing the Accuracy of predictive Models"
   ]
  },
  {
   "cell_type": "markdown",
   "id": "8558b47c-ac59-4131-b736-031bac4fe49c",
   "metadata": {},
   "source": [
    "##### Accuracy_score\n",
    "- This function computes subset accuracy in multilabel classification: the set of labels predicted for a sample must \n",
    "exactly match the corresponding set of labels in y_true.\n",
    "* accuracy_score= correct predictions/number of predictions"
   ]
  },
  {
   "cell_type": "code",
   "execution_count": 48,
   "id": "f64ebf09-fade-45ee-9b22-867e63dc2c42",
   "metadata": {},
   "outputs": [
    {
     "data": {
      "text/plain": [
       "0.8099388251068466"
      ]
     },
     "execution_count": 48,
     "metadata": {},
     "output_type": "execute_result"
    }
   ],
   "source": [
    "accuracy_score(y_test, y_pred)"
   ]
  },
  {
   "attachments": {
    "01aa473a-430d-4198-82f9-4b305470d7b7.png": {
     "image/png": "[encoded data removed]"
    },
    "6ab8c363-44e6-4087-94d1-3735f27cdb16.png": {
     "image/png": "[encoded data removed]"
    }
   },
   "cell_type": "markdown",
   "id": "c1dbfe4e-6606-40b0-adfa-7d5e74d9af01",
   "metadata": {},
   "source": [
    "- A Confusion matrix is a N x N matrix that is used to assess the performance of a classification model, where N is the number of target classes. The matrix compares the actual target values to the machine learning model's predictions. \n",
    "- ![image.png](attachment:01aa473a-430d-4198-82f9-4b305470d7b7.png)\n",
    "- ![image.png](attachment:6ab8c363-44e6-4087-94d1-3735f27cdb16.png)!"
   ]
  },
  {
   "cell_type": "code",
   "execution_count": 49,
   "id": "bc191fbd-c964-45ba-a917-a908fbe328a2",
   "metadata": {},
   "outputs": [
    {
     "data": {
      "text/plain": [
       "array([[ 255,    8,    1,    3,    0,    5,   61,    4,    0,    0,    0,\n",
       "           0,    0,    0,    8,    0,    1,    0,    5,    0],\n",
       "       [   0, 1063,    1,   10,    2,    3,   60,   32,    6,   11,    1,\n",
       "           0,   58,    0,   29,    1,    9,    0,    2,    3],\n",
       "       [   1,   17,  146,    2,    0,    2,    7,    7,   19,    1,    4,\n",
       "           3,    2,    1,    4,    2,    1,    0,    0,    0],\n",
       "       [   5,    8,    2,  871,    2,    3,    6,   12,    1,    2,    7,\n",
       "           1,    0,    1,    3,    8,    0,    0,   12,    2],\n",
       "       [   0,   14,    4,    6,  125,    2,    3,    5,    4,    4,    1,\n",
       "           0,    2,    2,    3,    1,    0,    0,    0,    0],\n",
       "       [   5,   12,    1,    6,    1,  159,   55,   26,    1,    0,    0,\n",
       "           2,    5,    3,   27,    0,    1,    0,    3,    2],\n",
       "       [  37,   47,    1,    7,    0,   14, 2100,   15,    2,    4,    1,\n",
       "           1,    6,    0,   88,    1,    3,    0,    4,    6],\n",
       "       [   4,   47,    8,   11,    2,    7,   46, 1777,    2,    0,    1,\n",
       "           0,    5,    3,   16,    1,    0,    1,    1,    0],\n",
       "       [   0,   11,    1,    5,    0,    0,    9,    5,  718,    2,   14,\n",
       "          17,    1,    0,    5,   17,    0,   12,    1,    0],\n",
       "       [   2,   40,    1,    3,    1,    1,   13,    3,    0,  135,    1,\n",
       "           0,    2,    0,   29,    0,    9,    0,    0,    1],\n",
       "       [   0,    5,    4,   17,    0,    0,    4,    4,   26,    0,  382,\n",
       "          28,    0,    1,    1,    2,    0,    0,    0,    0],\n",
       "       [   0,    2,    3,    3,    0,    0,    1,    3,   24,    0,   52,\n",
       "         146,    0,    0,    1,    4,    0,    3,    0,    0],\n",
       "       [   0,   78,    2,    2,    0,    3,   16,    9,    1,    3,    0,\n",
       "           0,  317,    0,   16,    0,    1,    0,    0,    0],\n",
       "       [   0,    7,    5,    6,    0,    4,   13,   19,    1,    2,    1,\n",
       "           0,    1,   80,    5,    0,    0,    0,    0,    0],\n",
       "       [   5,   50,    1,    2,    1,    5,  137,    7,    1,    9,    0,\n",
       "           1,    3,    0,  553,    2,    6,    1,    2,    9],\n",
       "       [   1,   15,    2,   24,    1,    0,    7,    3,   39,    5,    4,\n",
       "           1,    0,    1,    4,  298,    0,    7,    0,    2],\n",
       "       [   1,   29,    0,    0,    0,    2,   14,    4,    3,   15,    0,\n",
       "           1,    0,    0,   16,    0,  103,    0,    0,    2],\n",
       "       [   0,    2,    3,    1,    0,    0,    4,    1,   30,    0,    3,\n",
       "           1,    0,    0,    0,    9,    0,  170,    0,    0],\n",
       "       [   6,    5,    0,   15,    1,    6,    5,    4,    0,    0,    0,\n",
       "           0,    1,    0,    3,    0,    0,    0,  188,    0],\n",
       "       [   1,   12,    1,    2,    1,    4,    8,    4,    0,    4,    1,\n",
       "           0,    3,    0,   24,    1,    2,    0,    1,   79]])"
      ]
     },
     "execution_count": 49,
     "metadata": {},
     "output_type": "execute_result"
    }
   ],
   "source": [
    "confusion_matrix(y_test, y_pred)"
   ]
  },
  {
   "cell_type": "markdown",
   "id": "89f1661a-f588-45a9-bfca-7f337bca9afd",
   "metadata": {},
   "source": [
    " - Sklearn classification_report() outputs precision, recall and f1-score for each target class. In addition to this, it also has some extra values: micro avg, macro avg, and weighted avg \n",
    " \n",
    " https://www.analyticsvidhya.com/blog/2020/04/confusion-matrix-machine-learning/"
   ]
  },
  {
   "cell_type": "code",
   "execution_count": 50,
   "id": "8b7267e1-5ae6-4164-a836-595a2a585954",
   "metadata": {},
   "outputs": [
    {
     "name": "stdout",
     "output_type": "stream",
     "text": [
      "              precision    recall  f1-score   support\n",
      "\n",
      "           0       0.79      0.73      0.76       351\n",
      "           1       0.72      0.82      0.77      1291\n",
      "           2       0.78      0.67      0.72       219\n",
      "           3       0.87      0.92      0.90       946\n",
      "           4       0.91      0.71      0.80       176\n",
      "           5       0.72      0.51      0.60       309\n",
      "           6       0.82      0.90      0.86      2337\n",
      "           7       0.91      0.92      0.92      1932\n",
      "           8       0.82      0.88      0.85       818\n",
      "           9       0.69      0.56      0.62       241\n",
      "          10       0.81      0.81      0.81       474\n",
      "          11       0.72      0.60      0.66       242\n",
      "          12       0.78      0.71      0.74       448\n",
      "          13       0.87      0.56      0.68       144\n",
      "          14       0.66      0.70      0.68       795\n",
      "          15       0.86      0.72      0.78       414\n",
      "          16       0.76      0.54      0.63       190\n",
      "          17       0.88      0.76      0.81       224\n",
      "          18       0.86      0.80      0.83       234\n",
      "          19       0.75      0.53      0.62       148\n",
      "\n",
      "    accuracy                           0.81     11933\n",
      "   macro avg       0.80      0.72      0.75     11933\n",
      "weighted avg       0.81      0.81      0.81     11933\n",
      "\n"
     ]
    }
   ],
   "source": [
    "print(classification_report(y_test, y_pred))"
   ]
  },
  {
   "cell_type": "code",
   "execution_count": 55,
   "id": "58efaf35-709b-41e8-999f-92879183c35b",
   "metadata": {},
   "outputs": [],
   "source": [
    "from sklearn import preprocessing\n",
    "from sklearn.model_selection import cross_val_score, cross_val_predict\n",
    "from sklearn.metrics import accuracy_score, classification_report\n",
    "from sklearn.metrics import confusion_matrix, roc_auc_score\n",
    "def print_score(clf, x_train, x_test, y_train, y_test, train=True):\n",
    "    '''\n",
    "    v0.1 Follow the scikit learn library format in terms of input\n",
    "    print the accuracy score, classification report and confusion matrix of classifier\n",
    "    '''\n",
    "    lb = preprocessing.LabelBinarizer()\n",
    "    lb.fit(y_train)\n",
    "    if train:\n",
    "        '''\n",
    "        training performance\n",
    "        '''\n",
    "        res = clf.predict(x_train)\n",
    "        print(\"Train Result:\\n\")\n",
    "        print(\"accuracy score: {0:.4f}\\n\".format(accuracy_score(y_train, \n",
    "                                                                res)))\n",
    "        print(\"Classification Report: \\n {}\\n\".format(classification_report(y_train, \n",
    "                                                                            res)))\n",
    "        print(\"Confusion Matrix: \\n {}\\n\".format(confusion_matrix(y_train, \n",
    "                                                                  res)))\n",
    "        print(\"ROC AUC: {0:.4f}\\n\".format(roc_auc_score(lb.transform(y_train), \n",
    "                                                      lb.transform(res))))\n",
    "\n",
    "        res = cross_val_score(clf, x_train, y_train, cv=10, scoring='accuracy')\n",
    "        print(\"Average Accuracy: \\t {0:.4f}\".format(np.mean(res)))\n",
    "        print(\"Accuracy SD: \\t\\t {0:.4f}\".format(np.std(res)))\n",
    "        \n",
    "    elif train==False:\n",
    "        '''\n",
    "        test performance\n",
    "        '''\n",
    "        res_test = clf.predict(x_test)\n",
    "        print(\"Test Result:\\n\")        \n",
    "        print(\"accuracy score: {0:.4f}\\n\".format(accuracy_score(y_test, \n",
    "                                                                res_test)))\n",
    "        print(\"Classification Report: \\n {}\\n\".format(classification_report(y_test, \n",
    "                                                                            res_test)))\n",
    "        print(\"Confusion Matrix: \\n {}\\n\".format(confusion_matrix(y_test, \n",
    "                                                                  res_test)))   \n",
    "        print(\"ROC AUC: {0:.4f}\\n\".format(roc_auc_score(lb.transform(y_test), \n",
    "                                                      lb.transform(res_test))))"
   ]
  },
  {
   "cell_type": "code",
   "execution_count": 57,
   "id": "984bae92-36c9-48a5-b3d2-549a00d8fbbb",
   "metadata": {},
   "outputs": [
    {
     "name": "stdout",
     "output_type": "stream",
     "text": [
      "Test Result:\n",
      "\n",
      "accuracy score: 0.8099\n",
      "\n",
      "Classification Report: \n",
      "               precision    recall  f1-score   support\n",
      "\n",
      "           0       0.79      0.73      0.76       351\n",
      "           1       0.72      0.82      0.77      1291\n",
      "           2       0.78      0.67      0.72       219\n",
      "           3       0.87      0.92      0.90       946\n",
      "           4       0.91      0.71      0.80       176\n",
      "           5       0.72      0.51      0.60       309\n",
      "           6       0.82      0.90      0.86      2337\n",
      "           7       0.91      0.92      0.92      1932\n",
      "           8       0.82      0.88      0.85       818\n",
      "           9       0.69      0.56      0.62       241\n",
      "          10       0.81      0.81      0.81       474\n",
      "          11       0.72      0.60      0.66       242\n",
      "          12       0.78      0.71      0.74       448\n",
      "          13       0.87      0.56      0.68       144\n",
      "          14       0.66      0.70      0.68       795\n",
      "          15       0.86      0.72      0.78       414\n",
      "          16       0.76      0.54      0.63       190\n",
      "          17       0.88      0.76      0.81       224\n",
      "          18       0.86      0.80      0.83       234\n",
      "          19       0.75      0.53      0.62       148\n",
      "\n",
      "    accuracy                           0.81     11933\n",
      "   macro avg       0.80      0.72      0.75     11933\n",
      "weighted avg       0.81      0.81      0.81     11933\n",
      "\n",
      "\n",
      "Confusion Matrix: \n",
      " [[ 255    8    1    3    0    5   61    4    0    0    0    0    0    0\n",
      "     8    0    1    0    5    0]\n",
      " [   0 1063    1   10    2    3   60   32    6   11    1    0   58    0\n",
      "    29    1    9    0    2    3]\n",
      " [   1   17  146    2    0    2    7    7   19    1    4    3    2    1\n",
      "     4    2    1    0    0    0]\n",
      " [   5    8    2  871    2    3    6   12    1    2    7    1    0    1\n",
      "     3    8    0    0   12    2]\n",
      " [   0   14    4    6  125    2    3    5    4    4    1    0    2    2\n",
      "     3    1    0    0    0    0]\n",
      " [   5   12    1    6    1  159   55   26    1    0    0    2    5    3\n",
      "    27    0    1    0    3    2]\n",
      " [  37   47    1    7    0   14 2100   15    2    4    1    1    6    0\n",
      "    88    1    3    0    4    6]\n",
      " [   4   47    8   11    2    7   46 1777    2    0    1    0    5    3\n",
      "    16    1    0    1    1    0]\n",
      " [   0   11    1    5    0    0    9    5  718    2   14   17    1    0\n",
      "     5   17    0   12    1    0]\n",
      " [   2   40    1    3    1    1   13    3    0  135    1    0    2    0\n",
      "    29    0    9    0    0    1]\n",
      " [   0    5    4   17    0    0    4    4   26    0  382   28    0    1\n",
      "     1    2    0    0    0    0]\n",
      " [   0    2    3    3    0    0    1    3   24    0   52  146    0    0\n",
      "     1    4    0    3    0    0]\n",
      " [   0   78    2    2    0    3   16    9    1    3    0    0  317    0\n",
      "    16    0    1    0    0    0]\n",
      " [   0    7    5    6    0    4   13   19    1    2    1    0    1   80\n",
      "     5    0    0    0    0    0]\n",
      " [   5   50    1    2    1    5  137    7    1    9    0    1    3    0\n",
      "   553    2    6    1    2    9]\n",
      " [   1   15    2   24    1    0    7    3   39    5    4    1    0    1\n",
      "     4  298    0    7    0    2]\n",
      " [   1   29    0    0    0    2   14    4    3   15    0    1    0    0\n",
      "    16    0  103    0    0    2]\n",
      " [   0    2    3    1    0    0    4    1   30    0    3    1    0    0\n",
      "     0    9    0  170    0    0]\n",
      " [   6    5    0   15    1    6    5    4    0    0    0    0    1    0\n",
      "     3    0    0    0  188    0]\n",
      " [   1   12    1    2    1    4    8    4    0    4    1    0    3    0\n",
      "    24    1    2    0    1   79]]\n",
      "\n",
      "ROC AUC: 0.8533\n",
      "\n"
     ]
    }
   ],
   "source": [
    "print_score(classifier, x_train, x_test, y_train, y_test, train=False)"
   ]
  },
  {
   "cell_type": "code",
   "execution_count": null,
   "id": "956a1c4e-1fb2-4d0f-a4a1-a0d4f960d0c0",
   "metadata": {},
   "outputs": [
    {
     "name": "stdout",
     "output_type": "stream",
     "text": [
      "Train Result:\n",
      "\n",
      "accuracy score: 0.9994\n",
      "\n",
      "Classification Report: \n",
      "               precision    recall  f1-score   support\n",
      "\n",
      "           0       1.00      1.00      1.00       824\n",
      "           1       1.00      1.00      1.00      3029\n",
      "           2       1.00      1.00      1.00       536\n",
      "           3       1.00      1.00      1.00      2057\n",
      "           4       1.00      1.00      1.00       350\n",
      "           5       1.00      1.00      1.00       680\n",
      "           6       1.00      1.00      1.00      5501\n",
      "           7       1.00      1.00      1.00      4506\n",
      "           8       1.00      1.00      1.00      1855\n",
      "           9       1.00      1.00      1.00       563\n",
      "          10       1.00      1.00      1.00      1065\n",
      "          11       1.00      1.00      1.00       583\n",
      "          12       1.00      1.00      1.00      1098\n",
      "          13       1.00      1.00      1.00       323\n",
      "          14       1.00      1.00      1.00      1851\n",
      "          15       1.00      1.00      1.00      1009\n",
      "          16       1.00      0.99      1.00       477\n",
      "          17       1.00      1.00      1.00       606\n",
      "          18       1.00      1.00      1.00       587\n",
      "          19       1.00      1.00      1.00       341\n",
      "\n",
      "    accuracy                           1.00     27841\n",
      "   macro avg       1.00      1.00      1.00     27841\n",
      "weighted avg       1.00      1.00      1.00     27841\n",
      "\n",
      "\n",
      "Confusion Matrix: \n",
      " [[ 823    0    0    0    0    0    1    0    0    0    0    0    0    0\n",
      "     0    0    0    0    0    0]\n",
      " [   0 3027    0    0    0    0    0    0    0    0    0    0    1    0\n",
      "     1    0    0    0    0    0]\n",
      " [   1    0  535    0    0    0    0    0    0    0    0    0    0    0\n",
      "     0    0    0    0    0    0]\n",
      " [   0    0    0 2057    0    0    0    0    0    0    0    0    0    0\n",
      "     0    0    0    0    0    0]\n",
      " [   0    0    0    0  350    0    0    0    0    0    0    0    0    0\n",
      "     0    0    0    0    0    0]\n",
      " [   0    0    1    0    0  677    0    1    0    0    0    0    0    0\n",
      "     1    0    0    0    0    0]\n",
      " [   0    0    0    0    0    1 5500    0    0    0    0    0    0    0\n",
      "     0    0    0    0    0    0]\n",
      " [   0    0    0    0    0    0    0 4504    0    0    0    0    0    0\n",
      "     2    0    0    0    0    0]\n",
      " [   0    0    0    0    0    0    0    0 1855    0    0    0    0    0\n",
      "     0    0    0    0    0    0]\n",
      " [   0    0    0    0    0    0    0    0    0  563    0    0    0    0\n",
      "     0    0    0    0    0    0]\n",
      " [   0    0    0    0    0    0    0    0    0    0 1065    0    0    0\n",
      "     0    0    0    0    0    0]\n",
      " [   0    0    0    0    0    0    0    0    0    0    0  582    0    0\n",
      "     0    0    0    0    1    0]\n",
      " [   0    0    0    0    0    0    0    0    0    0    0    0 1098    0\n",
      "     0    0    0    0    0    0]\n",
      " [   0    0    0    0    0    0    0    0    0    0    0    0    0  323\n",
      "     0    0    0    0    0    0]\n",
      " [   0    0    0    0    0    0    0    0    0    0    0    0    0    0\n",
      "  1851    0    0    0    0    0]\n",
      " [   0    0    0    0    0    0    0    0    2    0    0    0    0    0\n",
      "     0 1007    0    0    0    0]\n",
      " [   0    4    0    0    0    0    0    0    0    0    0    0    0    0\n",
      "     0    0  473    0    0    0]\n",
      " [   0    0    0    0    0    0    0    0    0    0    0    0    0    0\n",
      "     0    0    0  606    0    0]\n",
      " [   0    0    0    0    0    0    0    0    0    0    0    0    0    0\n",
      "     0    0    0    0  587    0]\n",
      " [   0    0    0    0    0    0    0    0    0    0    0    0    0    0\n",
      "     0    0    0    0    0  341]]\n",
      "\n",
      "ROC AUC: 0.9995\n",
      "\n"
     ]
    }
   ],
   "source": [
    "print_score(classifier, x_train, x_test, y_train, y_test, train=True)"
   ]
  },
  {
   "cell_type": "code",
   "execution_count": null,
   "id": "fdaebbb4-4e4c-4e2f-9a4b-c05339f62c8b",
   "metadata": {},
   "outputs": [],
   "source": []
  }
 ],
 "metadata": {
  "kernelspec": {
   "display_name": "Python 3 (ipykernel)",
   "language": "python",
   "name": "python3"
  },
  "language_info": {
   "codemirror_mode": {
    "name": "ipython",
    "version": 3
   },
   "file_extension": ".py",
   "mimetype": "text/x-python",
   "name": "python",
   "nbconvert_exporter": "python",
   "pygments_lexer": "ipython3",
   "version": "3.8.12"
  }
 },
 "nbformat": 4,
 "nbformat_minor": 5
}
